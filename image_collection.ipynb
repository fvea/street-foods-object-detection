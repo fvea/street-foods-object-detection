{
 "cells": [
  {
   "cell_type": "markdown",
   "metadata": {},
   "source": [
    "### Setup Folders"
   ]
  },
  {
   "cell_type": "code",
   "execution_count": 1,
   "metadata": {},
   "outputs": [],
   "source": [
    "import os\n",
    "\n",
    "IMAGES_PATH = os.path.join('Tensorflow', 'workspace', 'images', 'collectedimages')\n",
    "os.makedirs(IMAGES_PATH, exist_ok=True)"
   ]
  },
  {
   "cell_type": "markdown",
   "metadata": {},
   "source": [
    "### Install `labelImg` Library"
   ]
  },
  {
   "cell_type": "code",
   "execution_count": 2,
   "metadata": {},
   "outputs": [
    {
     "name": "stdout",
     "output_type": "stream",
     "text": [
      "Collecting pyqt5\n",
      "  Using cached PyQt5-5.15.7-cp37-abi3-win_amd64.whl (6.8 MB)\n",
      "Requirement already satisfied: lxml in c:\\users\\fjvin\\anaconda3\\envs\\stfoods\\lib\\site-packages (4.9.1)\n",
      "Collecting PyQt5-Qt5>=5.15.0\n",
      "  Using cached PyQt5_Qt5-5.15.2-py3-none-win_amd64.whl (50.1 MB)\n",
      "Collecting PyQt5-sip<13,>=12.11\n",
      "  Downloading PyQt5_sip-12.11.0-cp39-cp39-win_amd64.whl (78 kB)\n",
      "     -------------------------------------- 78.3/78.3 kB 121.1 kB/s eta 0:00:00\n",
      "Installing collected packages: PyQt5-Qt5, PyQt5-sip, pyqt5\n",
      "Successfully installed PyQt5-Qt5-5.15.2 PyQt5-sip-12.11.0 pyqt5-5.15.7\n"
     ]
    }
   ],
   "source": [
    "!pip install --upgrade pyqt5 lxml"
   ]
  },
  {
   "cell_type": "code",
   "execution_count": 2,
   "metadata": {},
   "outputs": [],
   "source": [
    "LABELIMG_PATH = os.path.join('Tensorflow', 'addons', 'labelImg')"
   ]
  },
  {
   "cell_type": "code",
   "execution_count": 3,
   "metadata": {},
   "outputs": [],
   "source": [
    "if not os.path.exists(LABELIMG_PATH):\n",
    "    !mkdir {LABELIMG_PATH}\n",
    "    !git clone https://github.com/tzutalin/labelImg {LABELIMG_PATH}"
   ]
  },
  {
   "cell_type": "code",
   "execution_count": 4,
   "metadata": {},
   "outputs": [],
   "source": [
    "if os.name == 'posix':\n",
    "    !make qt5py3\n",
    "if os.name =='nt':\n",
    "    !cd {LABELIMG_PATH} && pyrcc5 -o libs/resources.py resources.qrc"
   ]
  },
  {
   "cell_type": "code",
   "execution_count": 6,
   "metadata": {},
   "outputs": [
    {
     "name": "stdout",
     "output_type": "stream",
     "text": [
      "ESC press\n",
      "Cancel creation.\n",
      "Image:C:\\Users\\fjvin\\projects\\stfoods\\Tensorflow\\workspace\\images\\collectedimages\\10 Filipino Foods to Eat When You Visit.webp -> Annotation:C:/Users/fjvin/projects/stfoods/Tensorflow/workspace/images/collectedimages\\10 Filipino Foods to Eat When You Visit.xml\n",
      "Image:C:\\Users\\fjvin\\projects\\stfoods\\Tensorflow\\workspace\\images\\collectedimages\\Buwis sa kwek-kwek fish ball pinalagan.jpg -> Annotation:C:/Users/fjvin/projects/stfoods/Tensorflow/workspace/images/collectedimages\\Buwis sa kwek-kwek fish ball pinalagan.xml\n",
      "Image:C:\\Users\\fjvin\\projects\\stfoods\\Tensorflow\\workspace\\images\\collectedimages\\Easy & Delicious Kwek Kwek - Simply Bakings (1).jpg -> Annotation:C:/Users/fjvin/projects/stfoods/Tensorflow/workspace/images/collectedimages\\Easy & Delicious Kwek Kwek - Simply Bakings (1).xml\n",
      "Image:C:\\Users\\fjvin\\projects\\stfoods\\Tensorflow\\workspace\\images\\collectedimages\\Filipino Street Food Kwek-Kwek - Cook n.jpg -> Annotation:C:/Users/fjvin/projects/stfoods/Tensorflow/workspace/images/collectedimages\\Filipino Street Food Kwek-Kwek - Cook n.xml\n",
      "Image:C:\\Users\\fjvin\\projects\\stfoods\\Tensorflow\\workspace\\images\\collectedimages\\Filipino Street Food Tour – BALUT and.jpg -> Annotation:C:/Users/fjvin/projects/stfoods/Tensorflow/workspace/images/collectedimages\\Filipino Street Food Tour – BALUT and.xml\n",
      "ESC press\n",
      "Cancel creation.\n",
      "Image:C:\\Users\\fjvin\\projects\\stfoods\\Tensorflow\\workspace\\images\\collectedimages\\Filipino Tempuralike Street Food.jpg -> Annotation:C:/Users/fjvin/projects/stfoods/Tensorflow/workspace/images/collectedimages\\Filipino Tempuralike Street Food.xml\n",
      "Image:C:\\Users\\fjvin\\projects\\stfoods\\Tensorflow\\workspace\\images\\collectedimages\\How To Make Kwek Kwek - Nusa Recipe.jpg -> Annotation:C:/Users/fjvin/projects/stfoods/Tensorflow/workspace/images/collectedimages\\How To Make Kwek Kwek - Nusa Recipe.xml\n",
      "Cancel creation.\n",
      "Image:C:\\Users\\fjvin\\projects\\stfoods\\Tensorflow\\workspace\\images\\collectedimages\\How to Make Kwek Kwek - Pinoy Easy Recipes.jpg -> Annotation:C:/Users/fjvin/projects/stfoods/Tensorflow/workspace/images/collectedimages\\How to Make Kwek Kwek - Pinoy Easy Recipes.xml\n",
      "ESC press\n",
      "Cancel creation.\n",
      "Image:C:\\Users\\fjvin\\projects\\stfoods\\Tensorflow\\workspace\\images\\collectedimages\\How to make_ Kwek-Kwek _ elaine_s test.png -> Annotation:C:/Users/fjvin/projects/stfoods/Tensorflow/workspace/images/collectedimages\\How to make_ Kwek-Kwek _ elaine_s test.xml\n",
      "Image:C:\\Users\\fjvin\\projects\\stfoods\\Tensorflow\\workspace\\images\\collectedimages\\How to make_ Kwek-Kwek _ elaine_s test.png -> Annotation:C:/Users/fjvin/projects/stfoods/Tensorflow/workspace/images/collectedimages\\How to make_ Kwek-Kwek _ elaine_s test.xml\n",
      "Cancel creation.\n",
      "Image:C:\\Users\\fjvin\\projects\\stfoods\\Tensorflow\\workspace\\images\\collectedimages\\Keychain Kwek Kwek (sold per piece.jpg -> Annotation:C:/Users/fjvin/projects/stfoods/Tensorflow/workspace/images/collectedimages\\Keychain Kwek Kwek (sold per piece.xml\n",
      "Image:C:\\Users\\fjvin\\projects\\stfoods\\Tensorflow\\workspace\\images\\collectedimages\\Keychain Kwek Kwek (sold per piece.jpg -> Annotation:C:/Users/fjvin/projects/stfoods/Tensorflow/workspace/images/collectedimages\\Keychain Kwek Kwek (sold per piece.xml\n",
      "Image:C:\\Users\\fjvin\\projects\\stfoods\\Tensorflow\\workspace\\images\\collectedimages\\Kwek Factory - Quintin Salas - Food.webp -> Annotation:C:/Users/fjvin/projects/stfoods/Tensorflow/workspace/images/collectedimages\\Kwek Factory - Quintin Salas - Food.xml\n",
      "Image:C:\\Users\\fjvin\\projects\\stfoods\\Tensorflow\\workspace\\images\\collectedimages\\KWEK KWEK & TOKNENENG (Filipino Orange (1).jpg -> Annotation:C:/Users/fjvin/projects/stfoods/Tensorflow/workspace/images/collectedimages\\KWEK KWEK & TOKNENENG (Filipino Orange (1).xml\n",
      "Image:C:\\Users\\fjvin\\projects\\stfoods\\Tensorflow\\workspace\\images\\collectedimages\\KWEK KWEK - Click Green.jpg -> Annotation:C:/Users/fjvin/projects/stfoods/Tensorflow/workspace/images/collectedimages\\KWEK KWEK - Click Green.xml\n",
      "Image:C:\\Users\\fjvin\\projects\\stfoods\\Tensorflow\\workspace\\images\\collectedimages\\KWEK KWEK - Click Green.jpg -> Annotation:C:/Users/fjvin/projects/stfoods/Tensorflow/workspace/images/collectedimages\\KWEK KWEK - Click Green.xml\n",
      "Image:C:\\Users\\fjvin\\projects\\stfoods\\Tensorflow\\workspace\\images\\collectedimages\\Kwek Kwek Recipe (1).jpg -> Annotation:C:/Users/fjvin/projects/stfoods/Tensorflow/workspace/images/collectedimages\\Kwek Kwek Recipe (1).xml\n",
      "Image:C:\\Users\\fjvin\\projects\\stfoods\\Tensorflow\\workspace\\images\\collectedimages\\Kwek Kwek Recipe (Filipino Street Food.jpg -> Annotation:C:/Users/fjvin/projects/stfoods/Tensorflow/workspace/images/collectedimages\\Kwek Kwek Recipe (Filipino Street Food.xml\n",
      "Image:C:\\Users\\fjvin\\projects\\stfoods\\Tensorflow\\workspace\\images\\collectedimages\\Kwek Kwek Recipe _ Amiable Foods (2).jpg -> Annotation:C:/Users/fjvin/projects/stfoods/Tensorflow/workspace/images/collectedimages\\Kwek Kwek Recipe _ Amiable Foods (2).xml\n",
      "ESC press\n",
      "Cancel creation.\n",
      "Image:C:\\Users\\fjvin\\projects\\stfoods\\Tensorflow\\workspace\\images\\collectedimages\\Kwek Kwek – CUIZINA FILIPINO FUSION.jpg -> Annotation:C:/Users/fjvin/projects/stfoods/Tensorflow/workspace/images/collectedimages\\Kwek Kwek – CUIZINA FILIPINO FUSION.xml\n",
      "Image:C:\\Users\\fjvin\\projects\\stfoods\\Tensorflow\\workspace\\images\\collectedimages\\Kwek Kwek – CUIZINA FILIPINO FUSION.jpg -> Annotation:C:/Users/fjvin/projects/stfoods/Tensorflow/workspace/images/collectedimages\\Kwek Kwek – CUIZINA FILIPINO FUSION.xml\n",
      "Image:C:\\Users\\fjvin\\projects\\stfoods\\Tensorflow\\workspace\\images\\collectedimages\\Kwek Kwek – Lakbay Museo.jpg -> Annotation:C:/Users/fjvin/projects/stfoods/Tensorflow/workspace/images/collectedimages\\Kwek Kwek – Lakbay Museo.xml\n",
      "Image:C:\\Users\\fjvin\\projects\\stfoods\\Tensorflow\\workspace\\images\\collectedimages\\Kwek Kwek – Otosection.jpg -> Annotation:C:/Users/fjvin/projects/stfoods/Tensorflow/workspace/images/collectedimages\\Kwek Kwek – Otosection.xml\n",
      "Image:C:\\Users\\fjvin\\projects\\stfoods\\Tensorflow\\workspace\\images\\collectedimages\\Kwek Kwek_ Colored Hair.jpeg -> Annotation:C:/Users/fjvin/projects/stfoods/Tensorflow/workspace/images/collectedimages\\Kwek Kwek_ Colored Hair.xml\n",
      "Image:C:\\Users\\fjvin\\projects\\stfoods\\Tensorflow\\workspace\\images\\collectedimages\\Kwek-Kwek (1).jpg -> Annotation:C:/Users/fjvin/projects/stfoods/Tensorflow/workspace/images/collectedimages\\Kwek-Kwek (1).xml\n",
      "Image:C:\\Users\\fjvin\\projects\\stfoods\\Tensorflow\\workspace\\images\\collectedimages\\Kwek-kwek - Pinoy Gourmet.jpg -> Annotation:C:/Users/fjvin/projects/stfoods/Tensorflow/workspace/images/collectedimages\\Kwek-kwek - Pinoy Gourmet.xml\n",
      "Image:C:\\Users\\fjvin\\projects\\stfoods\\Tensorflow\\workspace\\images\\collectedimages\\Street food Cravings No More_ Kwek Kwek (6).jpg -> Annotation:C:/Users/fjvin/projects/stfoods/Tensorflow/workspace/images/collectedimages\\Street food Cravings No More_ Kwek Kwek (6).xml\n"
     ]
    }
   ],
   "source": [
    "!cd {LABELIMG_PATH} && python labelImg.py"
   ]
  },
  {
   "cell_type": "markdown",
   "metadata": {},
   "source": [
    "### Partition Dataset to Training and Testing"
   ]
  },
  {
   "cell_type": "code",
   "execution_count": 7,
   "metadata": {},
   "outputs": [
    {
     "name": "stderr",
     "output_type": "stream",
     "text": [
      "c:\\Users\\fjvin\\projects\\stfoods\\Tensorflow\\scripts\\preprocessing\\partition_dataset.py:35: DeprecationWarning: Flags not at the start of the expression '([a-zA-Z0-9\\\\s_\\\\\\\\.\\\\-\\\\' (truncated) but at position 27\n",
      "  if re.search(r'([a-zA-Z0-9\\s_\\\\.\\-\\(\\):])+(?i)(.jpg|.jpeg|.png)$', f)]\n"
     ]
    }
   ],
   "source": [
    "!python Tensorflow\\scripts\\preprocessing\\partition_dataset.py -x -i .\\Tensorflow\\workspace\\images\\collectedimages -o .\\Tensorflow\\workspace\\images"
   ]
  },
  {
   "cell_type": "markdown",
   "metadata": {},
   "source": [
    "### Compress images for Google Colab Training"
   ]
  },
  {
   "cell_type": "code",
   "execution_count": 8,
   "metadata": {},
   "outputs": [],
   "source": [
    "TRAIN_PATH = os.path.join('Tensorflow', 'workspace', 'images', 'train')\n",
    "TEST_PATH = os.path.join('Tensorflow', 'workspace', 'images', 'test')\n",
    "ARCHIVE_PATH = os.path.join('Tensorflow', 'workspace', 'images', 'archive.tar.gz')"
   ]
  },
  {
   "cell_type": "code",
   "execution_count": 9,
   "metadata": {},
   "outputs": [],
   "source": [
    "!tar -czf {ARCHIVE_PATH} {TRAIN_PATH} {TEST_PATH}"
   ]
  },
  {
   "cell_type": "code",
   "execution_count": null,
   "metadata": {},
   "outputs": [],
   "source": []
  }
 ],
 "metadata": {
  "kernelspec": {
   "display_name": "Python 3.9.13 ('stfoods')",
   "language": "python",
   "name": "python3"
  },
  "language_info": {
   "codemirror_mode": {
    "name": "ipython",
    "version": 3
   },
   "file_extension": ".py",
   "mimetype": "text/x-python",
   "name": "python",
   "nbconvert_exporter": "python",
   "pygments_lexer": "ipython3",
   "version": "3.9.13"
  },
  "orig_nbformat": 4,
  "vscode": {
   "interpreter": {
    "hash": "66fb9f992391aed82f2ae658a8353f8ca8a9112cb703f2ce69d6d719fc08a327"
   }
  }
 },
 "nbformat": 4,
 "nbformat_minor": 2
}
