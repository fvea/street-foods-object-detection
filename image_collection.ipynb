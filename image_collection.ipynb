{
 "cells": [
  {
   "cell_type": "markdown",
   "metadata": {},
   "source": [
    "### Setup Folders"
   ]
  },
  {
   "cell_type": "code",
   "execution_count": 1,
   "metadata": {},
   "outputs": [],
   "source": [
    "import os\n",
    "\n",
    "IMAGES_PATH = os.path.join('Tensorflow', 'workspace', 'images', 'collectedimages')\n",
    "os.makedirs(IMAGES_PATH, exist_ok=True)"
   ]
  },
  {
   "cell_type": "markdown",
   "metadata": {},
   "source": [
    "### Install `labelImg` Library"
   ]
  },
  {
   "cell_type": "code",
   "execution_count": 2,
   "metadata": {},
   "outputs": [
    {
     "name": "stdout",
     "output_type": "stream",
     "text": [
      "Collecting pyqt5\n",
      "  Using cached PyQt5-5.15.7-cp37-abi3-win_amd64.whl (6.8 MB)\n",
      "Requirement already satisfied: lxml in c:\\users\\fjvin\\anaconda3\\envs\\stfoods\\lib\\site-packages (4.9.1)\n",
      "Collecting PyQt5-Qt5>=5.15.0\n",
      "  Using cached PyQt5_Qt5-5.15.2-py3-none-win_amd64.whl (50.1 MB)\n",
      "Collecting PyQt5-sip<13,>=12.11\n",
      "  Downloading PyQt5_sip-12.11.0-cp39-cp39-win_amd64.whl (78 kB)\n",
      "     -------------------------------------- 78.3/78.3 kB 121.1 kB/s eta 0:00:00\n",
      "Installing collected packages: PyQt5-Qt5, PyQt5-sip, pyqt5\n",
      "Successfully installed PyQt5-Qt5-5.15.2 PyQt5-sip-12.11.0 pyqt5-5.15.7\n"
     ]
    }
   ],
   "source": [
    "!pip install --upgrade pyqt5 lxml"
   ]
  },
  {
   "cell_type": "code",
   "execution_count": 2,
   "metadata": {},
   "outputs": [],
   "source": [
    "LABELIMG_PATH = os.path.join('Tensorflow', 'addons', 'labelImg')"
   ]
  },
  {
   "cell_type": "code",
   "execution_count": 3,
   "metadata": {},
   "outputs": [
    {
     "name": "stderr",
     "output_type": "stream",
     "text": [
      "Cloning into 'Tensorflow\\addons\\labelImg'...\n"
     ]
    }
   ],
   "source": [
    "if not os.path.exists(LABELIMG_PATH):\n",
    "    !mkdir {LABELIMG_PATH}\n",
    "    !git clone https://github.com/tzutalin/labelImg {LABELIMG_PATH}"
   ]
  },
  {
   "cell_type": "code",
   "execution_count": 4,
   "metadata": {},
   "outputs": [],
   "source": [
    "if os.name == 'posix':\n",
    "    !make qt5py3\n",
    "if os.name =='nt':\n",
    "    !cd {LABELIMG_PATH} && pyrcc5 -o libs/resources.py resources.qrc"
   ]
  },
  {
   "cell_type": "code",
   "execution_count": 3,
   "metadata": {},
   "outputs": [
    {
     "name": "stdout",
     "output_type": "stream",
     "text": [
      "Image:C:\\Users\\fjvin\\projects\\stfoods\\Tensorflow\\workspace\\images\\collectedimages\\17 Popular Filipino Street Food Dishes (1).jpg -> Annotation:C:/Users/fjvin/projects/stfoods/Tensorflow/workspace/images/collectedimages\\17 Popular Filipino Street Food Dishes (1).xml\n",
      "Image:C:\\Users\\fjvin\\projects\\stfoods\\Tensorflow\\workspace\\images\\collectedimages\\a thread hinata x kwek-kwek tsukishima.jpg -> Annotation:C:/Users/fjvin/projects/stfoods/Tensorflow/workspace/images/collectedimages\\a thread hinata x kwek-kwek tsukishima.xml\n",
      "Cancel creation.\n",
      "ESC press\n",
      "Cancel creation.\n",
      "Cancel creation.\n",
      "ESC press\n",
      "Cancel creation.\n",
      "Image:C:\\Users\\fjvin\\projects\\stfoods\\Tensorflow\\workspace\\images\\collectedimages\\Charrie_s Journey — Tukneneng   Kwek.jpg -> Annotation:C:/Users/fjvin/projects/stfoods/Tensorflow/workspace/images/collectedimages\\Charrie_s Journey — Tukneneng   Kwek.xml\n",
      "Cancel creation.\n",
      "ESC press\n",
      "Cancel creation.\n",
      "ESC press\n",
      "Cancel creation.\n",
      "ESC press\n",
      "Cancel creation.\n",
      "ESC press\n",
      "Cancel creation.\n",
      "Image:C:\\Users\\fjvin\\projects\\stfoods\\Tensorflow\\workspace\\images\\collectedimages\\Charrie_s Journey — Tukneneng   Kwek.jpg -> Annotation:C:/Users/fjvin/projects/stfoods/Tensorflow/workspace/images/collectedimages\\Charrie_s Journey — Tukneneng   Kwek.xml\n",
      "Image:C:\\Users\\fjvin\\projects\\stfoods\\Tensorflow\\workspace\\images\\collectedimages\\Davao City_s People_s Park _ My Cup of Tin.jpg -> Annotation:C:/Users/fjvin/projects/stfoods/Tensorflow/workspace/images/collectedimages\\Davao City_s People_s Park _ My Cup of Tin.xml\n",
      "ESC press\n",
      "Cancel creation.\n",
      "Image:C:\\Users\\fjvin\\projects\\stfoods\\Tensorflow\\workspace\\images\\collectedimages\\Deep fried duck eggs in a flour batter.jpg -> Annotation:C:/Users/fjvin/projects/stfoods/Tensorflow/workspace/images/collectedimages\\Deep fried duck eggs in a flour batter.xml\n",
      "Image:C:\\Users\\fjvin\\projects\\stfoods\\Tensorflow\\workspace\\images\\collectedimages\\DR KWEK KWEK - Kiosk - Level 1 (1).jpg -> Annotation:C:/Users/fjvin/projects/stfoods/Tensorflow/workspace/images/collectedimages\\DR KWEK KWEK - Kiosk - Level 1 (1).xml\n",
      "ESC press\n",
      "Cancel creation.\n",
      "Image:C:\\Users\\fjvin\\projects\\stfoods\\Tensorflow\\workspace\\images\\collectedimages\\Dr. Kwek Kwek (Filipino Street Food.jpg -> Annotation:C:/Users/fjvin/projects/stfoods/Tensorflow/workspace/images/collectedimages\\Dr. Kwek Kwek (Filipino Street Food.xml\n",
      "Cancel creation.\n",
      "ESC press\n",
      "Cancel creation.\n",
      "Image:C:\\Users\\fjvin\\projects\\stfoods\\Tensorflow\\workspace\\images\\collectedimages\\Easy & Delicious Kwek Kwek - Simply Bakings (2).jpg -> Annotation:C:/Users/fjvin/projects/stfoods/Tensorflow/workspace/images/collectedimages\\Easy & Delicious Kwek Kwek - Simply Bakings (2).xml\n",
      "ESC press\n",
      "Cancel creation.\n",
      "Image:C:\\Users\\fjvin\\projects\\stfoods\\Tensorflow\\workspace\\images\\collectedimages\\Easy & Delicious Kwek Kwek - Simply Bakings.jpg -> Annotation:C:/Users/fjvin/projects/stfoods/Tensorflow/workspace/images/collectedimages\\Easy & Delicious Kwek Kwek - Simply Bakings.xml\n",
      "ESC press\n",
      "Cancel creation.\n",
      "Image:C:\\Users\\fjvin\\projects\\stfoods\\Tensorflow\\workspace\\images\\collectedimages\\EASY KWEK-KWEK AND SWEET SAUCE RECIPE.jpg -> Annotation:C:/Users/fjvin/projects/stfoods/Tensorflow/workspace/images/collectedimages\\EASY KWEK-KWEK AND SWEET SAUCE RECIPE.xml\n",
      "Cancel creation.\n",
      "Cancel creation.\n",
      "ESC press\n",
      "Cancel creation.\n",
      "Image:C:\\Users\\fjvin\\projects\\stfoods\\Tensorflow\\workspace\\images\\collectedimages\\Easy Kwek-Kwek With Sauce Recipe.jpg -> Annotation:C:/Users/fjvin/projects/stfoods/Tensorflow/workspace/images/collectedimages\\Easy Kwek-Kwek With Sauce Recipe.xml\n",
      "ESC press\n",
      "Cancel creation.\n",
      "Cancel creation.\n",
      "ESC press\n",
      "Cancel creation.\n",
      "Image:C:\\Users\\fjvin\\projects\\stfoods\\Tensorflow\\workspace\\images\\collectedimages\\Egg Depot - Robinson_s Malabon.webp -> Annotation:C:/Users/fjvin/projects/stfoods/Tensorflow/workspace/images/collectedimages\\Egg Depot - Robinson_s Malabon.xml\n",
      "Image:C:\\Users\\fjvin\\projects\\stfoods\\Tensorflow\\workspace\\images\\collectedimages\\Egg Recipes - Friend Cheap Menu.jpg -> Annotation:C:/Users/fjvin/projects/stfoods/Tensorflow/workspace/images/collectedimages\\Egg Recipes - Friend Cheap Menu.xml\n",
      "Image:C:\\Users\\fjvin\\projects\\stfoods\\Tensorflow\\workspace\\images\\collectedimages\\Egg Station - Puregold Pulang Lupa.jpg -> Annotation:C:/Users/fjvin/projects/stfoods/Tensorflow/workspace/images/collectedimages\\Egg Station - Puregold Pulang Lupa.xml\n",
      "Image:C:\\Users\\fjvin\\projects\\stfoods\\Tensorflow\\workspace\\images\\collectedimages\\Filipino Cuisine — Kwek-kwek by Rich Ian.jpg -> Annotation:C:/Users/fjvin/projects/stfoods/Tensorflow/workspace/images/collectedimages\\Filipino Cuisine — Kwek-kwek by Rich Ian.xml\n",
      "Image:C:\\Users\\fjvin\\projects\\stfoods\\Tensorflow\\workspace\\images\\collectedimages\\Filipino Food from Tasty Pinoy BBQ.jpg -> Annotation:C:/Users/fjvin/projects/stfoods/Tensorflow/workspace/images/collectedimages\\Filipino Food from Tasty Pinoy BBQ.xml\n",
      "Image:C:\\Users\\fjvin\\projects\\stfoods\\Tensorflow\\workspace\\images\\collectedimages\\FILIPINO STREET FOOD FROM QUAIL EGGS.jpg -> Annotation:C:/Users/fjvin/projects/stfoods/Tensorflow/workspace/images/collectedimages\\FILIPINO STREET FOOD FROM QUAIL EGGS.xml\n",
      "Image:C:\\Users\\fjvin\\projects\\stfoods\\Tensorflow\\workspace\\images\\collectedimages\\Filipino Street Food_ What You Should.jpg -> Annotation:C:/Users/fjvin/projects/stfoods/Tensorflow/workspace/images/collectedimages\\Filipino Street Food_ What You Should.xml\n",
      "Image:C:\\Users\\fjvin\\projects\\stfoods\\Tensorflow\\workspace\\images\\collectedimages\\Filipino Street Food_ What You Should.jpg -> Annotation:C:/Users/fjvin/projects/stfoods/Tensorflow/workspace/images/collectedimages\\Filipino Street Food_ What You Should.xml\n",
      "ESC press\n",
      "Cancel creation.\n",
      "Image:C:\\Users\\fjvin\\projects\\stfoods\\Tensorflow\\workspace\\images\\collectedimages\\Fishball Sauce Recipe - Foxy Folksy.jpg -> Annotation:C:/Users/fjvin/projects/stfoods/Tensorflow/workspace/images/collectedimages\\Fishball Sauce Recipe - Foxy Folksy.xml\n",
      "Image:C:\\Users\\fjvin\\projects\\stfoods\\Tensorflow\\workspace\\images\\collectedimages\\Fried Chicken _ Filipino Style Recipe.jpg -> Annotation:C:/Users/fjvin/projects/stfoods/Tensorflow/workspace/images/collectedimages\\Fried Chicken _ Filipino Style Recipe.xml\n",
      "Image:C:\\Users\\fjvin\\projects\\stfoods\\Tensorflow\\workspace\\images\\collectedimages\\Good to Know_ Kwek-Kwek_ The Street Egg.jpg -> Annotation:C:/Users/fjvin/projects/stfoods/Tensorflow/workspace/images/collectedimages\\Good to Know_ Kwek-Kwek_ The Street Egg.xml\n",
      "ESC press\n",
      "Cancel creation.\n",
      "Image:C:\\Users\\fjvin\\projects\\stfoods\\Tensorflow\\workspace\\images\\collectedimages\\How To Make Filipino Egg Fritters - Ane.jpg -> Annotation:C:/Users/fjvin/projects/stfoods/Tensorflow/workspace/images/collectedimages\\How To Make Filipino Egg Fritters - Ane.xml\n",
      "Image:C:\\Users\\fjvin\\projects\\stfoods\\Tensorflow\\workspace\\images\\collectedimages\\How to Make Kwek Kwek_ 15 Steps (with.jpg -> Annotation:C:/Users/fjvin/projects/stfoods/Tensorflow/workspace/images/collectedimages\\How to Make Kwek Kwek_ 15 Steps (with.xml\n",
      "Image:C:\\Users\\fjvin\\projects\\stfoods\\Tensorflow\\workspace\\images\\collectedimages\\How to Make Kwek Kwek_ 15 Steps (with.jpg -> Annotation:C:/Users/fjvin/projects/stfoods/Tensorflow/workspace/images/collectedimages\\How to Make Kwek Kwek_ 15 Steps (with.xml\n",
      "Image:C:\\Users\\fjvin\\projects\\stfoods\\Tensorflow\\workspace\\images\\collectedimages\\How to Make Kwek Kwek_ 15 Steps (with.jpg -> Annotation:C:/Users/fjvin/projects/stfoods/Tensorflow/workspace/images/collectedimages\\How to Make Kwek Kwek_ 15 Steps (with.xml\n"
     ]
    }
   ],
   "source": [
    "!cd {LABELIMG_PATH} && python labelImg.py"
   ]
  },
  {
   "cell_type": "markdown",
   "metadata": {},
   "source": [
    "### Partition Dataset to Training and Testing"
   ]
  },
  {
   "cell_type": "code",
   "execution_count": 6,
   "metadata": {},
   "outputs": [
    {
     "name": "stderr",
     "output_type": "stream",
     "text": [
      "c:\\Users\\fjvin\\projects\\stfoods\\Tensorflow\\scripts\\preprocessing\\partition_dataset.py:35: DeprecationWarning: Flags not at the start of the expression '([a-zA-Z0-9\\\\s_\\\\\\\\.\\\\-\\\\' (truncated) but at position 27\n",
      "  if re.search(r'([a-zA-Z0-9\\s_\\\\.\\-\\(\\):])+(?i)(.jpg|.jpeg|.png)$', f)]\n"
     ]
    }
   ],
   "source": [
    "!python Tensorflow\\scripts\\preprocessing\\partition_dataset.py -x -i .\\Tensorflow\\workspace\\images\\collectedimages -o .\\Tensorflow\\workspace\\images"
   ]
  },
  {
   "cell_type": "markdown",
   "metadata": {},
   "source": [
    "### Compress images for Google Colab Training"
   ]
  },
  {
   "cell_type": "code",
   "execution_count": 13,
   "metadata": {},
   "outputs": [],
   "source": [
    "TRAIN_PATH = os.path.join('Tensorflow', 'workspace', 'images', 'train')\n",
    "TEST_PATH = os.path.join('Tensorflow', 'workspace', 'images', 'test')\n",
    "ARCHIVE_PATH = os.path.join('Tensorflow', 'workspace', 'images', 'archive.tar.gz')"
   ]
  },
  {
   "cell_type": "code",
   "execution_count": 14,
   "metadata": {},
   "outputs": [],
   "source": [
    "!tar -czf {ARCHIVE_PATH} {TRAIN_PATH} {TEST_PATH}"
   ]
  }
 ],
 "metadata": {
  "kernelspec": {
   "display_name": "Python 3.9.13 ('stfoods')",
   "language": "python",
   "name": "python3"
  },
  "language_info": {
   "codemirror_mode": {
    "name": "ipython",
    "version": 3
   },
   "file_extension": ".py",
   "mimetype": "text/x-python",
   "name": "python",
   "nbconvert_exporter": "python",
   "pygments_lexer": "ipython3",
   "version": "3.9.13"
  },
  "orig_nbformat": 4,
  "vscode": {
   "interpreter": {
    "hash": "66fb9f992391aed82f2ae658a8353f8ca8a9112cb703f2ce69d6d719fc08a327"
   }
  }
 },
 "nbformat": 4,
 "nbformat_minor": 2
}
